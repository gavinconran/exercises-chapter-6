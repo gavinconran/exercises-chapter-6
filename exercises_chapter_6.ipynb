{
  "nbformat": 4,
  "nbformat_minor": 0,
  "metadata": {
    "colab": {
      "provenance": []
    },
    "kernelspec": {
      "name": "python3",
      "display_name": "Python 3"
    },
    "language_info": {
      "name": "python"
    }
  },
  "cells": [
    {
      "cell_type": "markdown",
      "source": [
        "##Install home-made packages and pytest"
      ],
      "metadata": {
        "id": "pqreNH3DYaIL"
      }
    },
    {
      "cell_type": "markdown",
      "source": [
        "### Install home-made packages"
      ],
      "metadata": {
        "id": "-qShO-nQcgKP"
      }
    },
    {
      "cell_type": "code",
      "source": [
        "!python -m pip install -e ."
      ],
      "metadata": {
        "colab": {
          "base_uri": "https://localhost:8080/"
        },
        "id": "Habpi_oLaEFR",
        "outputId": "6bc56926-2832-403e-d11f-2becf561416e"
      },
      "execution_count": 1,
      "outputs": [
        {
          "output_type": "stream",
          "name": "stdout",
          "text": [
            "Obtaining file:///content\n",
            "  Installing build dependencies ... \u001b[?25l\u001b[?25hdone\n",
            "  Checking if build backend supports build_editable ... \u001b[?25l\u001b[?25hdone\n",
            "  Getting requirements to build editable ... \u001b[?25l\u001b[?25hdone\n",
            "  Installing backend dependencies ... \u001b[?25l\u001b[?25hdone\n",
            "  Preparing editable metadata (pyproject.toml) ... \u001b[?25l\u001b[?25hdone\n",
            "Requirement already satisfied: numpy in /usr/local/lib/python3.10/dist-packages (from chapter-6==0.1) (1.26.4)\n",
            "Building wheels for collected packages: chapter-6\n",
            "  Building editable for chapter-6 (pyproject.toml) ... \u001b[?25l\u001b[?25hdone\n",
            "  Created wheel for chapter-6: filename=chapter_6-0.1-py2.py3-none-any.whl size=987 sha256=4ccc1dada86af171ee4783a5c9821dd9ea1b640b5c16e73059b9741f9c7b60ee\n",
            "  Stored in directory: /tmp/pip-ephem-wheel-cache-dyq2f25o/wheels/e8/d3/96/0e8c7135806cbda4db28d12fc8d710e5e4f66ced1411163e67\n",
            "Successfully built chapter-6\n",
            "Installing collected packages: chapter-6\n",
            "Successfully installed chapter-6-0.1\n"
          ]
        }
      ]
    },
    {
      "cell_type": "markdown",
      "source": [
        "### Install pytest"
      ],
      "metadata": {
        "id": "4EIssX7RcmWP"
      }
    },
    {
      "cell_type": "code",
      "source": [
        "!python -m pip install pytest"
      ],
      "metadata": {
        "colab": {
          "base_uri": "https://localhost:8080/"
        },
        "id": "dvV8c_wRb8AE",
        "outputId": "b8c5b357-0f3e-4b46-e6bd-4d8dc81385ef"
      },
      "execution_count": 2,
      "outputs": [
        {
          "output_type": "stream",
          "name": "stdout",
          "text": [
            "Requirement already satisfied: pytest in /usr/local/lib/python3.10/dist-packages (8.3.4)\n",
            "Requirement already satisfied: exceptiongroup>=1.0.0rc8 in /usr/local/lib/python3.10/dist-packages (from pytest) (1.2.2)\n",
            "Requirement already satisfied: iniconfig in /usr/local/lib/python3.10/dist-packages (from pytest) (2.0.0)\n",
            "Requirement already satisfied: packaging in /usr/local/lib/python3.10/dist-packages (from pytest) (24.2)\n",
            "Requirement already satisfied: pluggy<2,>=1.5 in /usr/local/lib/python3.10/dist-packages (from pytest) (1.5.0)\n",
            "Requirement already satisfied: tomli>=1 in /usr/local/lib/python3.10/dist-packages (from pytest) (2.2.1)\n"
          ]
        }
      ]
    },
    {
      "cell_type": "markdown",
      "source": [
        "### Run tests"
      ],
      "metadata": {
        "id": "rnMp9OXecpEc"
      }
    },
    {
      "cell_type": "code",
      "source": [
        "!python -m pytest tests"
      ],
      "metadata": {
        "colab": {
          "base_uri": "https://localhost:8080/"
        },
        "id": "oxbQ3ud8cCYS",
        "outputId": "1629166b-fc1c-467d-d930-434eafc15bf1"
      },
      "execution_count": 3,
      "outputs": [
        {
          "output_type": "stream",
          "name": "stdout",
          "text": [
            "\u001b[1m======================================= test session starts ========================================\u001b[0m\n",
            "platform linux -- Python 3.10.12, pytest-8.3.4, pluggy-1.5.0\n",
            "rootdir: /content\n",
            "configfile: setup.cfg\n",
            "plugins: typeguard-4.4.1, anyio-3.7.1\n",
            "collected 17 items                                                                                 \u001b[0m\n",
            "\n",
            "tests/test_exercise_6_1.py \u001b[32m.\u001b[0m\u001b[32m.\u001b[0m\u001b[32m.\u001b[0m\u001b[32m.\u001b[0m\u001b[32m.\u001b[0m\u001b[32m.\u001b[0m\u001b[32m.\u001b[0m\u001b[32m                                                           [ 41%]\u001b[0m\n",
            "tests/test_exercise_6_2.py \u001b[32m.\u001b[0m\u001b[32m.\u001b[0m\u001b[32m.\u001b[0m\u001b[32m.\u001b[0m\u001b[32m.\u001b[0m\u001b[32m.\u001b[0m\u001b[32m.\u001b[0m\u001b[32m.\u001b[0m\u001b[32m.\u001b[0m\u001b[32m                                                         [ 94%]\u001b[0m\n",
            "tests/test_exercise_6_3.py \u001b[32m.\u001b[0m\u001b[32m                                                                 [100%]\u001b[0m\n",
            "\n",
            "\u001b[32m======================================== \u001b[32m\u001b[1m17 passed\u001b[0m\u001b[32m in 0.32s\u001b[0m\u001b[32m ========================================\u001b[0m\n"
          ]
        }
      ]
    },
    {
      "cell_type": "markdown",
      "source": [
        "## Code"
      ],
      "metadata": {
        "id": "Jn0C2gkCfUco"
      }
    },
    {
      "cell_type": "code",
      "source": [
        "class ConvergenceError(Exception):\n",
        "    \"\"\"Exception raised if a solver fails to converge.\"\"\"\n",
        "\n",
        "    pass"
      ],
      "metadata": {
        "id": "Hn_tm5ByYs4s"
      },
      "execution_count": null,
      "outputs": []
    },
    {
      "cell_type": "markdown",
      "source": [
        "## Newton-Raphson"
      ],
      "metadata": {
        "id": "_WdyEyt-Ydh9"
      }
    },
    {
      "cell_type": "code",
      "execution_count": null,
      "metadata": {
        "editable": true,
        "deletable": false,
        "id": "00966441"
      },
      "outputs": [],
      "source": [
        "import numpy as np"
      ]
    },
    {
      "cell_type": "code",
      "execution_count": null,
      "metadata": {
        "id": "W092L7Z2YU-e"
      },
      "outputs": [],
      "source": [
        "def newton_raphson(f, df, x_0, eps=1.0e-5, max_its=20):\n",
        "    \"\"\"Solve a nonlinear equation using Newton-Raphson iteration.\n",
        "\n",
        "    Solve f==0 using Newton-Raphson iteration.\n",
        "\n",
        "    Parameters\n",
        "    ----------\n",
        "    f : function(x: float) -> float\n",
        "        The function whose root is being found.\n",
        "    df : function(x: float) -> float\n",
        "        The derivative of f.\n",
        "    x_0 : float\n",
        "        The initial value of x in the iteration.\n",
        "    eps : float\n",
        "        The solver tolerance. Convergence is achieved when abs(f(x)) < eps.\n",
        "    max_its : int\n",
        "        The maximum number of iterations to be taken before the solver is taken\n",
        "        to have failed.\n",
        "\n",
        "    Returns\n",
        "    -------\n",
        "    float\n",
        "        The approximate root computed using Newton iteration.\n",
        "    \"\"\"\n",
        "\n",
        "    def g(x):\n",
        "        \"\"\" return the iteration function g(x) for given f(x) and f'(x) \"\"\"\n",
        "        return x - f(x) / df(x)\n",
        "\n",
        "    r = -1\n",
        "    x_r = x_0\n",
        "    x_r_plus_1 = g(x_r)\n",
        "\n",
        "    while abs(x_r_plus_1 - x_r) > eps and r < max_its:\n",
        "        r = r + 1\n",
        "        x_r = x_r_plus_1\n",
        "        x_r_plus_1 = g(x_r)\n",
        "    if r >= max_its:\n",
        "        raise  ConvergenceError(f'max_its of {max_its} has been exceeded')\n",
        "    return x_r_plus_1"
      ]
    },
    {
      "cell_type": "markdown",
      "source": [
        "###Correct roor expected"
      ],
      "metadata": {
        "id": "DK4FBzOyGEbc"
      }
    },
    {
      "cell_type": "code",
      "source": [
        "root = newton_raphson(lambda x: x**2 - 5*x + 2, lambda x: 2*x - 5, 0)\n",
        "print(f'Root_1: {root:.5f}')"
      ],
      "metadata": {
        "colab": {
          "base_uri": "https://localhost:8080/"
        },
        "id": "sBhmoKJuj86k",
        "outputId": "204c4125-08cb-42e7-caa7-9352360fa653",
        "collapsed": true
      },
      "execution_count": null,
      "outputs": [
        {
          "output_type": "stream",
          "name": "stdout",
          "text": [
            "Root_1: 0.43845\n"
          ]
        }
      ]
    },
    {
      "cell_type": "code",
      "source": [
        "newton_raphson(lambda x: np.cos(x) - x, lambda x: -np.sin(x) - 1, 1, 1e-10, 4) #, 0.7390851332)"
      ],
      "metadata": {
        "colab": {
          "base_uri": "https://localhost:8080/"
        },
        "id": "_2CmKGIwvfUr",
        "outputId": "ca1ad162-1912-40b4-ad7f-f42f34db1ead"
      },
      "execution_count": null,
      "outputs": [
        {
          "output_type": "execute_result",
          "data": {
            "text/plain": [
              "0.7390851332151607"
            ]
          },
          "metadata": {},
          "execution_count": 7
        }
      ]
    },
    {
      "cell_type": "code",
      "source": [
        "newton_raphson(lambda x: np.sin(np.exp(x)) - 1, lambda x: np.exp(x) *\n",
        "     np.cos(np.exp(x)), 0.5, 1e-10, 25) #, 0.45158270719343396)"
      ],
      "metadata": {
        "colab": {
          "base_uri": "https://localhost:8080/"
        },
        "id": "O8HDsegyvnoB",
        "outputId": "ea6049f3-9e2b-4c03-eb1d-25c09e6fd4b1"
      },
      "execution_count": null,
      "outputs": [
        {
          "output_type": "execute_result",
          "data": {
            "text/plain": [
              "0.45158270719343396"
            ]
          },
          "metadata": {},
          "execution_count": 8
        }
      ]
    },
    {
      "cell_type": "code",
      "source": [
        "newton_raphson(lambda x: x**2 - 1, lambda x: 2 * x, 2, 1e-5, 5) #, 1.00000004646114741)"
      ],
      "metadata": {
        "colab": {
          "base_uri": "https://localhost:8080/"
        },
        "id": "GL1W8W0B03VR",
        "outputId": "ac529b85-d6d7-4f66-f076-1810816e34b5"
      },
      "execution_count": null,
      "outputs": [
        {
          "output_type": "execute_result",
          "data": {
            "text/plain": [
              "1.000000000000001"
            ]
          },
          "metadata": {},
          "execution_count": 9
        }
      ]
    },
    {
      "cell_type": "markdown",
      "source": [
        "### Exception expected"
      ],
      "metadata": {
        "id": "uiXp3_R8F_Fh"
      }
    },
    {
      "cell_type": "code",
      "source": [
        "newton_raphson(lambda x: np.cos(x) - x, lambda x: -np.sin(x) - 1, 1, 1e-10, 2)"
      ],
      "metadata": {
        "colab": {
          "base_uri": "https://localhost:8080/",
          "height": 255
        },
        "id": "7rTvvG0p1Ujm",
        "outputId": "0498bb29-d670-40f0-9fbf-0bba2bbd1b08"
      },
      "execution_count": null,
      "outputs": [
        {
          "output_type": "error",
          "ename": "ConvergenceError",
          "evalue": "max_its of 2 has been exceeded",
          "traceback": [
            "\u001b[0;31m---------------------------------------------------------------------------\u001b[0m",
            "\u001b[0;31mConvergenceError\u001b[0m                          Traceback (most recent call last)",
            "\u001b[0;32m<ipython-input-10-bec515312f3d>\u001b[0m in \u001b[0;36m<cell line: 1>\u001b[0;34m()\u001b[0m\n\u001b[0;32m----> 1\u001b[0;31m \u001b[0mnewton_raphson\u001b[0m\u001b[0;34m(\u001b[0m\u001b[0;32mlambda\u001b[0m \u001b[0mx\u001b[0m\u001b[0;34m:\u001b[0m \u001b[0mnp\u001b[0m\u001b[0;34m.\u001b[0m\u001b[0mcos\u001b[0m\u001b[0;34m(\u001b[0m\u001b[0mx\u001b[0m\u001b[0;34m)\u001b[0m \u001b[0;34m-\u001b[0m \u001b[0mx\u001b[0m\u001b[0;34m,\u001b[0m \u001b[0;32mlambda\u001b[0m \u001b[0mx\u001b[0m\u001b[0;34m:\u001b[0m \u001b[0;34m-\u001b[0m\u001b[0mnp\u001b[0m\u001b[0;34m.\u001b[0m\u001b[0msin\u001b[0m\u001b[0;34m(\u001b[0m\u001b[0mx\u001b[0m\u001b[0;34m)\u001b[0m \u001b[0;34m-\u001b[0m \u001b[0;36m1\u001b[0m\u001b[0;34m,\u001b[0m \u001b[0;36m1\u001b[0m\u001b[0;34m,\u001b[0m \u001b[0;36m1e-10\u001b[0m\u001b[0;34m,\u001b[0m \u001b[0;36m2\u001b[0m\u001b[0;34m)\u001b[0m\u001b[0;34m\u001b[0m\u001b[0;34m\u001b[0m\u001b[0m\n\u001b[0m",
            "\u001b[0;32m<ipython-input-5-895b3b79002e>\u001b[0m in \u001b[0;36mnewton_raphson\u001b[0;34m(f, df, x_0, eps, max_its)\u001b[0m\n\u001b[1;32m     37\u001b[0m         \u001b[0mx_r_plus_1\u001b[0m \u001b[0;34m=\u001b[0m \u001b[0mg\u001b[0m\u001b[0;34m(\u001b[0m\u001b[0mx_r\u001b[0m\u001b[0;34m)\u001b[0m\u001b[0;34m\u001b[0m\u001b[0;34m\u001b[0m\u001b[0m\n\u001b[1;32m     38\u001b[0m     \u001b[0;32mif\u001b[0m \u001b[0mr\u001b[0m \u001b[0;34m>=\u001b[0m \u001b[0mmax_its\u001b[0m\u001b[0;34m:\u001b[0m\u001b[0;34m\u001b[0m\u001b[0;34m\u001b[0m\u001b[0m\n\u001b[0;32m---> 39\u001b[0;31m         \u001b[0;32mraise\u001b[0m  \u001b[0mConvergenceError\u001b[0m\u001b[0;34m(\u001b[0m\u001b[0;34mf'max_its of {max_its} has been exceeded'\u001b[0m\u001b[0;34m)\u001b[0m\u001b[0;34m\u001b[0m\u001b[0;34m\u001b[0m\u001b[0m\n\u001b[0m\u001b[1;32m     40\u001b[0m     \u001b[0;32mreturn\u001b[0m \u001b[0mx_r_plus_1\u001b[0m\u001b[0;34m\u001b[0m\u001b[0;34m\u001b[0m\u001b[0m\n",
            "\u001b[0;31mConvergenceError\u001b[0m: max_its of 2 has been exceeded"
          ]
        }
      ]
    },
    {
      "cell_type": "code",
      "source": [
        "newton_raphson(lambda x: np.sin(np.exp(x)) -\n",
        "     1, lambda x: np.exp(x) *\n",
        "     np.cos(np.exp(x)), 0.5, 1e-20, 20)"
      ],
      "metadata": {
        "colab": {
          "base_uri": "https://localhost:8080/",
          "height": 291
        },
        "id": "ubAoQbtL48ij",
        "outputId": "64bad7be-0696-445d-ea4a-b92ca78f25c9"
      },
      "execution_count": null,
      "outputs": [
        {
          "output_type": "error",
          "ename": "ConvergenceError",
          "evalue": "max_its of 20 has been exceeded",
          "traceback": [
            "\u001b[0;31m---------------------------------------------------------------------------\u001b[0m",
            "\u001b[0;31mConvergenceError\u001b[0m                          Traceback (most recent call last)",
            "\u001b[0;32m<ipython-input-11-35c3c24de69d>\u001b[0m in \u001b[0;36m<cell line: 1>\u001b[0;34m()\u001b[0m\n\u001b[0;32m----> 1\u001b[0;31m newton_raphson(lambda x: np.sin(np.exp(x)) -\n\u001b[0m\u001b[1;32m      2\u001b[0m      \u001b[0;36m1\u001b[0m\u001b[0;34m,\u001b[0m \u001b[0;32mlambda\u001b[0m \u001b[0mx\u001b[0m\u001b[0;34m:\u001b[0m \u001b[0mnp\u001b[0m\u001b[0;34m.\u001b[0m\u001b[0mexp\u001b[0m\u001b[0;34m(\u001b[0m\u001b[0mx\u001b[0m\u001b[0;34m)\u001b[0m \u001b[0;34m*\u001b[0m\u001b[0;34m\u001b[0m\u001b[0;34m\u001b[0m\u001b[0m\n\u001b[1;32m      3\u001b[0m      np.cos(np.exp(x)), 0.5, 1e-20, 20)\n",
            "\u001b[0;32m<ipython-input-5-895b3b79002e>\u001b[0m in \u001b[0;36mnewton_raphson\u001b[0;34m(f, df, x_0, eps, max_its)\u001b[0m\n\u001b[1;32m     37\u001b[0m         \u001b[0mx_r_plus_1\u001b[0m \u001b[0;34m=\u001b[0m \u001b[0mg\u001b[0m\u001b[0;34m(\u001b[0m\u001b[0mx_r\u001b[0m\u001b[0;34m)\u001b[0m\u001b[0;34m\u001b[0m\u001b[0;34m\u001b[0m\u001b[0m\n\u001b[1;32m     38\u001b[0m     \u001b[0;32mif\u001b[0m \u001b[0mr\u001b[0m \u001b[0;34m>=\u001b[0m \u001b[0mmax_its\u001b[0m\u001b[0;34m:\u001b[0m\u001b[0;34m\u001b[0m\u001b[0;34m\u001b[0m\u001b[0m\n\u001b[0;32m---> 39\u001b[0;31m         \u001b[0;32mraise\u001b[0m  \u001b[0mConvergenceError\u001b[0m\u001b[0;34m(\u001b[0m\u001b[0;34mf'max_its of {max_its} has been exceeded'\u001b[0m\u001b[0;34m)\u001b[0m\u001b[0;34m\u001b[0m\u001b[0;34m\u001b[0m\u001b[0m\n\u001b[0m\u001b[1;32m     40\u001b[0m     \u001b[0;32mreturn\u001b[0m \u001b[0mx_r_plus_1\u001b[0m\u001b[0;34m\u001b[0m\u001b[0;34m\u001b[0m\u001b[0m\n",
            "\u001b[0;31mConvergenceError\u001b[0m: max_its of 20 has been exceeded"
          ]
        }
      ]
    },
    {
      "cell_type": "code",
      "source": [
        "newton_raphson(lambda x: x**(1 / 3), lambda x: (1 / 3) * x**(-2 / 3), 1, 1e-5, 5)"
      ],
      "metadata": {
        "colab": {
          "base_uri": "https://localhost:8080/",
          "height": 255
        },
        "id": "oGlu9d9d5bxi",
        "outputId": "d65b5e00-b20c-4449-b792-b753077edf52"
      },
      "execution_count": null,
      "outputs": [
        {
          "output_type": "error",
          "ename": "ConvergenceError",
          "evalue": "max_its of 5 has been exceeded",
          "traceback": [
            "\u001b[0;31m---------------------------------------------------------------------------\u001b[0m",
            "\u001b[0;31mConvergenceError\u001b[0m                          Traceback (most recent call last)",
            "\u001b[0;32m<ipython-input-12-918c2a71f932>\u001b[0m in \u001b[0;36m<cell line: 1>\u001b[0;34m()\u001b[0m\n\u001b[0;32m----> 1\u001b[0;31m \u001b[0mnewton_raphson\u001b[0m\u001b[0;34m(\u001b[0m\u001b[0;32mlambda\u001b[0m \u001b[0mx\u001b[0m\u001b[0;34m:\u001b[0m \u001b[0mx\u001b[0m\u001b[0;34m**\u001b[0m\u001b[0;34m(\u001b[0m\u001b[0;36m1\u001b[0m \u001b[0;34m/\u001b[0m \u001b[0;36m3\u001b[0m\u001b[0;34m)\u001b[0m\u001b[0;34m,\u001b[0m \u001b[0;32mlambda\u001b[0m \u001b[0mx\u001b[0m\u001b[0;34m:\u001b[0m \u001b[0;34m(\u001b[0m\u001b[0;36m1\u001b[0m \u001b[0;34m/\u001b[0m \u001b[0;36m3\u001b[0m\u001b[0;34m)\u001b[0m \u001b[0;34m*\u001b[0m \u001b[0mx\u001b[0m\u001b[0;34m**\u001b[0m\u001b[0;34m(\u001b[0m\u001b[0;34m-\u001b[0m\u001b[0;36m2\u001b[0m \u001b[0;34m/\u001b[0m \u001b[0;36m3\u001b[0m\u001b[0;34m)\u001b[0m\u001b[0;34m,\u001b[0m \u001b[0;36m1\u001b[0m\u001b[0;34m,\u001b[0m \u001b[0;36m1e-5\u001b[0m\u001b[0;34m,\u001b[0m \u001b[0;36m5\u001b[0m\u001b[0;34m)\u001b[0m\u001b[0;34m\u001b[0m\u001b[0;34m\u001b[0m\u001b[0m\n\u001b[0m",
            "\u001b[0;32m<ipython-input-5-895b3b79002e>\u001b[0m in \u001b[0;36mnewton_raphson\u001b[0;34m(f, df, x_0, eps, max_its)\u001b[0m\n\u001b[1;32m     37\u001b[0m         \u001b[0mx_r_plus_1\u001b[0m \u001b[0;34m=\u001b[0m \u001b[0mg\u001b[0m\u001b[0;34m(\u001b[0m\u001b[0mx_r\u001b[0m\u001b[0;34m)\u001b[0m\u001b[0;34m\u001b[0m\u001b[0;34m\u001b[0m\u001b[0m\n\u001b[1;32m     38\u001b[0m     \u001b[0;32mif\u001b[0m \u001b[0mr\u001b[0m \u001b[0;34m>=\u001b[0m \u001b[0mmax_its\u001b[0m\u001b[0;34m:\u001b[0m\u001b[0;34m\u001b[0m\u001b[0;34m\u001b[0m\u001b[0m\n\u001b[0;32m---> 39\u001b[0;31m         \u001b[0;32mraise\u001b[0m  \u001b[0mConvergenceError\u001b[0m\u001b[0;34m(\u001b[0m\u001b[0;34mf'max_its of {max_its} has been exceeded'\u001b[0m\u001b[0;34m)\u001b[0m\u001b[0;34m\u001b[0m\u001b[0;34m\u001b[0m\u001b[0m\n\u001b[0m\u001b[1;32m     40\u001b[0m     \u001b[0;32mreturn\u001b[0m \u001b[0mx_r_plus_1\u001b[0m\u001b[0;34m\u001b[0m\u001b[0;34m\u001b[0m\u001b[0m\n",
            "\u001b[0;31mConvergenceError\u001b[0m: max_its of 5 has been exceeded"
          ]
        }
      ]
    },
    {
      "cell_type": "code",
      "source": [
        "newton_raphson(lambda x: x**2 - 1, lambda x: 2 * x, 2, 1e-5, 1)"
      ],
      "metadata": {
        "colab": {
          "base_uri": "https://localhost:8080/",
          "height": 255
        },
        "id": "S5_u8tXT5nqh",
        "outputId": "3c72cbc2-6279-4658-a274-e5b00a57c65e"
      },
      "execution_count": null,
      "outputs": [
        {
          "output_type": "error",
          "ename": "ConvergenceError",
          "evalue": "max_its of 1 has been exceeded",
          "traceback": [
            "\u001b[0;31m---------------------------------------------------------------------------\u001b[0m",
            "\u001b[0;31mConvergenceError\u001b[0m                          Traceback (most recent call last)",
            "\u001b[0;32m<ipython-input-13-3a246a643468>\u001b[0m in \u001b[0;36m<cell line: 1>\u001b[0;34m()\u001b[0m\n\u001b[0;32m----> 1\u001b[0;31m \u001b[0mnewton_raphson\u001b[0m\u001b[0;34m(\u001b[0m\u001b[0;32mlambda\u001b[0m \u001b[0mx\u001b[0m\u001b[0;34m:\u001b[0m \u001b[0mx\u001b[0m\u001b[0;34m**\u001b[0m\u001b[0;36m2\u001b[0m \u001b[0;34m-\u001b[0m \u001b[0;36m1\u001b[0m\u001b[0;34m,\u001b[0m \u001b[0;32mlambda\u001b[0m \u001b[0mx\u001b[0m\u001b[0;34m:\u001b[0m \u001b[0;36m2\u001b[0m \u001b[0;34m*\u001b[0m \u001b[0mx\u001b[0m\u001b[0;34m,\u001b[0m \u001b[0;36m2\u001b[0m\u001b[0;34m,\u001b[0m \u001b[0;36m1e-5\u001b[0m\u001b[0;34m,\u001b[0m \u001b[0;36m1\u001b[0m\u001b[0;34m)\u001b[0m\u001b[0;34m\u001b[0m\u001b[0;34m\u001b[0m\u001b[0m\n\u001b[0m",
            "\u001b[0;32m<ipython-input-5-895b3b79002e>\u001b[0m in \u001b[0;36mnewton_raphson\u001b[0;34m(f, df, x_0, eps, max_its)\u001b[0m\n\u001b[1;32m     37\u001b[0m         \u001b[0mx_r_plus_1\u001b[0m \u001b[0;34m=\u001b[0m \u001b[0mg\u001b[0m\u001b[0;34m(\u001b[0m\u001b[0mx_r\u001b[0m\u001b[0;34m)\u001b[0m\u001b[0;34m\u001b[0m\u001b[0;34m\u001b[0m\u001b[0m\n\u001b[1;32m     38\u001b[0m     \u001b[0;32mif\u001b[0m \u001b[0mr\u001b[0m \u001b[0;34m>=\u001b[0m \u001b[0mmax_its\u001b[0m\u001b[0;34m:\u001b[0m\u001b[0;34m\u001b[0m\u001b[0;34m\u001b[0m\u001b[0m\n\u001b[0;32m---> 39\u001b[0;31m         \u001b[0;32mraise\u001b[0m  \u001b[0mConvergenceError\u001b[0m\u001b[0;34m(\u001b[0m\u001b[0;34mf'max_its of {max_its} has been exceeded'\u001b[0m\u001b[0;34m)\u001b[0m\u001b[0;34m\u001b[0m\u001b[0;34m\u001b[0m\u001b[0m\n\u001b[0m\u001b[1;32m     40\u001b[0m     \u001b[0;32mreturn\u001b[0m \u001b[0mx_r_plus_1\u001b[0m\u001b[0;34m\u001b[0m\u001b[0;34m\u001b[0m\u001b[0m\n",
            "\u001b[0;31mConvergenceError\u001b[0m: max_its of 1 has been exceeded"
          ]
        }
      ]
    },
    {
      "cell_type": "markdown",
      "source": [
        "##Bisection method"
      ],
      "metadata": {
        "id": "tE-dpZLwA2V_"
      }
    },
    {
      "cell_type": "code",
      "source": [
        "def bisection(f, a, b, eps=1.0e-5, max_its=20):\n",
        "    \"\"\"Solve a nonlinear equation using bisection.\n",
        "\n",
        "    Solve f==0 using bisection starting with the interval [x_0, x_1]. f(x_0)\n",
        "    and f(x_1) must differ in sign.\n",
        "\n",
        "    Parameters\n",
        "    ----------\n",
        "    f : function(x: float) -> float\n",
        "        The function whose root is being found.\n",
        "    a : float\n",
        "        The left end of the initial bisection interval.\n",
        "    b : float\n",
        "        The right end of the initial bisection interval.\n",
        "    eps : float\n",
        "        The solver tolerance. Convergence is achieved when abs(f(x)) < eps.\n",
        "    max_its : int\n",
        "        The maximum number of iterations to be taken before the solver is taken\n",
        "        to have failed.\n",
        "\n",
        "    Returns\n",
        "    -------\n",
        "    float\n",
        "        The approximate root computed using bisection.\n",
        "    \"\"\"\n",
        "    its = 0\n",
        "    c = (a + b) / 2\n",
        "    while abs(f(c)) > eps:\n",
        "        # ValueError checked during while loop\n",
        "        if f(a) * f(b) >= 0:\n",
        "            raise ValueError(f'f(x_0) and f(x_1) are not of the same sign')\n",
        "        c = (a + b) / 2\n",
        "        if f(c) == 0:\n",
        "            break\n",
        "        elif f(a) * f(c) < 0:\n",
        "            b = c\n",
        "        else:\n",
        "            a = c\n",
        "        c = (a + b) / 2\n",
        "        its += 1\n",
        "    # ConvergenceError checked after while loop terminates\n",
        "    if its >= max_its:\n",
        "        raise  ConvergenceError(f'max_its of {max_its} has been exceeded')\n",
        "    return c"
      ],
      "metadata": {
        "id": "TECaau8_A5Zf"
      },
      "execution_count": null,
      "outputs": []
    },
    {
      "cell_type": "markdown",
      "source": [
        "###Root expected"
      ],
      "metadata": {
        "id": "QOEDHTPfHoo8"
      }
    },
    {
      "cell_type": "code",
      "source": [
        "bisection(lambda x: np.cos(x) - x, 0, 1, 1e-5, 17) #, 0.7390899658203125)"
      ],
      "metadata": {
        "colab": {
          "base_uri": "https://localhost:8080/"
        },
        "id": "P1HpYKioELAF",
        "outputId": "2aa88275-5a79-4836-c9ad-a49fae656fb2"
      },
      "execution_count": null,
      "outputs": [
        {
          "output_type": "execute_result",
          "data": {
            "text/plain": [
              "0.7390899658203125"
            ]
          },
          "metadata": {},
          "execution_count": 26
        }
      ]
    },
    {
      "cell_type": "code",
      "source": [
        "bisection(lambda x: 4 * x**3 - 1, -1, 2, 1e-5, 20) #, 0.6299591064453125)"
      ],
      "metadata": {
        "colab": {
          "base_uri": "https://localhost:8080/"
        },
        "id": "bFQO0O_0HUb0",
        "outputId": "03048b64-a946-4789-8c00-fdf5589d8407"
      },
      "execution_count": null,
      "outputs": [
        {
          "output_type": "execute_result",
          "data": {
            "text/plain": [
              "0.6299591064453125"
            ]
          },
          "metadata": {},
          "execution_count": 27
        }
      ]
    },
    {
      "cell_type": "code",
      "source": [
        "bisection(lambda x: x**2 - 1, 0.825, 8.125, 1e-5, 25) #, 0.9999993324279786)"
      ],
      "metadata": {
        "colab": {
          "base_uri": "https://localhost:8080/"
        },
        "id": "JovLN-oyHfqR",
        "outputId": "7e3738ea-11ee-42d9-f0df-efce6eb6b4e8"
      },
      "execution_count": null,
      "outputs": [
        {
          "output_type": "execute_result",
          "data": {
            "text/plain": [
              "0.9999993324279786"
            ]
          },
          "metadata": {},
          "execution_count": 28
        }
      ]
    },
    {
      "cell_type": "markdown",
      "source": [
        "###ConvergenceError exception expected"
      ],
      "metadata": {
        "id": "jfgbbOJfHsgH"
      }
    },
    {
      "cell_type": "code",
      "source": [
        "bisection(lambda x: np.cos(x) - x, 0, 1, 1e-5, 2) #, 0.7390899658203125)"
      ],
      "metadata": {
        "colab": {
          "base_uri": "https://localhost:8080/",
          "height": 255
        },
        "id": "tTOtitbMHxUO",
        "outputId": "54244543-85e7-4295-fa13-4d09adaa9bcb"
      },
      "execution_count": null,
      "outputs": [
        {
          "output_type": "error",
          "ename": "ConvergenceError",
          "evalue": "max_its of 2 has been exceeded",
          "traceback": [
            "\u001b[0;31m---------------------------------------------------------------------------\u001b[0m",
            "\u001b[0;31mConvergenceError\u001b[0m                          Traceback (most recent call last)",
            "\u001b[0;32m<ipython-input-29-c28b3f49af18>\u001b[0m in \u001b[0;36m<cell line: 1>\u001b[0;34m()\u001b[0m\n\u001b[0;32m----> 1\u001b[0;31m \u001b[0mbisection\u001b[0m\u001b[0;34m(\u001b[0m\u001b[0;32mlambda\u001b[0m \u001b[0mx\u001b[0m\u001b[0;34m:\u001b[0m \u001b[0mnp\u001b[0m\u001b[0;34m.\u001b[0m\u001b[0mcos\u001b[0m\u001b[0;34m(\u001b[0m\u001b[0mx\u001b[0m\u001b[0;34m)\u001b[0m \u001b[0;34m-\u001b[0m \u001b[0mx\u001b[0m\u001b[0;34m,\u001b[0m \u001b[0;36m0\u001b[0m\u001b[0;34m,\u001b[0m \u001b[0;36m1\u001b[0m\u001b[0;34m,\u001b[0m \u001b[0;36m1e-5\u001b[0m\u001b[0;34m,\u001b[0m \u001b[0;36m2\u001b[0m\u001b[0;34m)\u001b[0m \u001b[0;31m#, 0.7390899658203125)\u001b[0m\u001b[0;34m\u001b[0m\u001b[0;34m\u001b[0m\u001b[0m\n\u001b[0m",
            "\u001b[0;32m<ipython-input-25-70a72e393e06>\u001b[0m in \u001b[0;36mbisection\u001b[0;34m(f, a, b, eps, max_its)\u001b[0m\n\u001b[1;32m     39\u001b[0m         \u001b[0mits\u001b[0m \u001b[0;34m+=\u001b[0m \u001b[0;36m1\u001b[0m\u001b[0;34m\u001b[0m\u001b[0;34m\u001b[0m\u001b[0m\n\u001b[1;32m     40\u001b[0m     \u001b[0;32mif\u001b[0m \u001b[0mits\u001b[0m \u001b[0;34m>=\u001b[0m \u001b[0mmax_its\u001b[0m\u001b[0;34m:\u001b[0m\u001b[0;34m\u001b[0m\u001b[0;34m\u001b[0m\u001b[0m\n\u001b[0;32m---> 41\u001b[0;31m         \u001b[0;32mraise\u001b[0m  \u001b[0mConvergenceError\u001b[0m\u001b[0;34m(\u001b[0m\u001b[0;34mf'max_its of {max_its} has been exceeded'\u001b[0m\u001b[0;34m)\u001b[0m\u001b[0;34m\u001b[0m\u001b[0;34m\u001b[0m\u001b[0m\n\u001b[0m\u001b[1;32m     42\u001b[0m     \u001b[0;32mreturn\u001b[0m \u001b[0mc\u001b[0m\u001b[0;34m\u001b[0m\u001b[0;34m\u001b[0m\u001b[0m\n",
            "\u001b[0;31mConvergenceError\u001b[0m: max_its of 2 has been exceeded"
          ]
        }
      ]
    },
    {
      "cell_type": "code",
      "source": [
        "bisection(lambda x: 4 * x**3 - 1, -1, 2, 1e-5, 4) #, 0.6299591064453125)"
      ],
      "metadata": {
        "colab": {
          "base_uri": "https://localhost:8080/",
          "height": 255
        },
        "id": "8SJkU29nH__Y",
        "outputId": "fed0fdd4-95f2-44a0-b0bd-425baf79f5c4"
      },
      "execution_count": null,
      "outputs": [
        {
          "output_type": "error",
          "ename": "ConvergenceError",
          "evalue": "max_its of 4 has been exceeded",
          "traceback": [
            "\u001b[0;31m---------------------------------------------------------------------------\u001b[0m",
            "\u001b[0;31mConvergenceError\u001b[0m                          Traceback (most recent call last)",
            "\u001b[0;32m<ipython-input-30-02039c9b81f0>\u001b[0m in \u001b[0;36m<cell line: 1>\u001b[0;34m()\u001b[0m\n\u001b[0;32m----> 1\u001b[0;31m \u001b[0mbisection\u001b[0m\u001b[0;34m(\u001b[0m\u001b[0;32mlambda\u001b[0m \u001b[0mx\u001b[0m\u001b[0;34m:\u001b[0m \u001b[0;36m4\u001b[0m \u001b[0;34m*\u001b[0m \u001b[0mx\u001b[0m\u001b[0;34m**\u001b[0m\u001b[0;36m3\u001b[0m \u001b[0;34m-\u001b[0m \u001b[0;36m1\u001b[0m\u001b[0;34m,\u001b[0m \u001b[0;34m-\u001b[0m\u001b[0;36m1\u001b[0m\u001b[0;34m,\u001b[0m \u001b[0;36m2\u001b[0m\u001b[0;34m,\u001b[0m \u001b[0;36m1e-5\u001b[0m\u001b[0;34m,\u001b[0m \u001b[0;36m4\u001b[0m\u001b[0;34m)\u001b[0m \u001b[0;31m#, 0.6299591064453125)\u001b[0m\u001b[0;34m\u001b[0m\u001b[0;34m\u001b[0m\u001b[0m\n\u001b[0m",
            "\u001b[0;32m<ipython-input-25-70a72e393e06>\u001b[0m in \u001b[0;36mbisection\u001b[0;34m(f, a, b, eps, max_its)\u001b[0m\n\u001b[1;32m     39\u001b[0m         \u001b[0mits\u001b[0m \u001b[0;34m+=\u001b[0m \u001b[0;36m1\u001b[0m\u001b[0;34m\u001b[0m\u001b[0;34m\u001b[0m\u001b[0m\n\u001b[1;32m     40\u001b[0m     \u001b[0;32mif\u001b[0m \u001b[0mits\u001b[0m \u001b[0;34m>=\u001b[0m \u001b[0mmax_its\u001b[0m\u001b[0;34m:\u001b[0m\u001b[0;34m\u001b[0m\u001b[0;34m\u001b[0m\u001b[0m\n\u001b[0;32m---> 41\u001b[0;31m         \u001b[0;32mraise\u001b[0m  \u001b[0mConvergenceError\u001b[0m\u001b[0;34m(\u001b[0m\u001b[0;34mf'max_its of {max_its} has been exceeded'\u001b[0m\u001b[0;34m)\u001b[0m\u001b[0;34m\u001b[0m\u001b[0;34m\u001b[0m\u001b[0m\n\u001b[0m\u001b[1;32m     42\u001b[0m     \u001b[0;32mreturn\u001b[0m \u001b[0mc\u001b[0m\u001b[0;34m\u001b[0m\u001b[0;34m\u001b[0m\u001b[0m\n",
            "\u001b[0;31mConvergenceError\u001b[0m: max_its of 4 has been exceeded"
          ]
        }
      ]
    },
    {
      "cell_type": "code",
      "source": [
        "bisection(lambda x: x**2 - 1, 0.825, 8.125, 1e-5, 6) #, 0.9999993324279786)"
      ],
      "metadata": {
        "colab": {
          "base_uri": "https://localhost:8080/",
          "height": 255
        },
        "id": "F5-in_-xIHlp",
        "outputId": "ff95bc0c-8361-4d2d-8d02-029444e1d938"
      },
      "execution_count": null,
      "outputs": [
        {
          "output_type": "error",
          "ename": "ConvergenceError",
          "evalue": "max_its of 6 has been exceeded",
          "traceback": [
            "\u001b[0;31m---------------------------------------------------------------------------\u001b[0m",
            "\u001b[0;31mConvergenceError\u001b[0m                          Traceback (most recent call last)",
            "\u001b[0;32m<ipython-input-31-a7f0ba93a4a4>\u001b[0m in \u001b[0;36m<cell line: 1>\u001b[0;34m()\u001b[0m\n\u001b[0;32m----> 1\u001b[0;31m \u001b[0mbisection\u001b[0m\u001b[0;34m(\u001b[0m\u001b[0;32mlambda\u001b[0m \u001b[0mx\u001b[0m\u001b[0;34m:\u001b[0m \u001b[0mx\u001b[0m\u001b[0;34m**\u001b[0m\u001b[0;36m2\u001b[0m \u001b[0;34m-\u001b[0m \u001b[0;36m1\u001b[0m\u001b[0;34m,\u001b[0m \u001b[0;36m0.825\u001b[0m\u001b[0;34m,\u001b[0m \u001b[0;36m8.125\u001b[0m\u001b[0;34m,\u001b[0m \u001b[0;36m1e-5\u001b[0m\u001b[0;34m,\u001b[0m \u001b[0;36m6\u001b[0m\u001b[0;34m)\u001b[0m \u001b[0;31m#, 0.9999993324279786)\u001b[0m\u001b[0;34m\u001b[0m\u001b[0;34m\u001b[0m\u001b[0m\n\u001b[0m",
            "\u001b[0;32m<ipython-input-25-70a72e393e06>\u001b[0m in \u001b[0;36mbisection\u001b[0;34m(f, a, b, eps, max_its)\u001b[0m\n\u001b[1;32m     39\u001b[0m         \u001b[0mits\u001b[0m \u001b[0;34m+=\u001b[0m \u001b[0;36m1\u001b[0m\u001b[0;34m\u001b[0m\u001b[0;34m\u001b[0m\u001b[0m\n\u001b[1;32m     40\u001b[0m     \u001b[0;32mif\u001b[0m \u001b[0mits\u001b[0m \u001b[0;34m>=\u001b[0m \u001b[0mmax_its\u001b[0m\u001b[0;34m:\u001b[0m\u001b[0;34m\u001b[0m\u001b[0;34m\u001b[0m\u001b[0m\n\u001b[0;32m---> 41\u001b[0;31m         \u001b[0;32mraise\u001b[0m  \u001b[0mConvergenceError\u001b[0m\u001b[0;34m(\u001b[0m\u001b[0;34mf'max_its of {max_its} has been exceeded'\u001b[0m\u001b[0;34m)\u001b[0m\u001b[0;34m\u001b[0m\u001b[0;34m\u001b[0m\u001b[0m\n\u001b[0m\u001b[1;32m     42\u001b[0m     \u001b[0;32mreturn\u001b[0m \u001b[0mc\u001b[0m\u001b[0;34m\u001b[0m\u001b[0;34m\u001b[0m\u001b[0m\n",
            "\u001b[0;31mConvergenceError\u001b[0m: max_its of 6 has been exceeded"
          ]
        }
      ]
    },
    {
      "cell_type": "markdown",
      "source": [
        "###ValueError exception expected"
      ],
      "metadata": {
        "id": "6K1p1hPCJ-Dv"
      }
    },
    {
      "cell_type": "code",
      "source": [
        "bisection(lambda x: np.cos(x) - x, 0.7, 0.73, 1e-5, 20) #, 0.7390899658203125)"
      ],
      "metadata": {
        "colab": {
          "base_uri": "https://localhost:8080/",
          "height": 273
        },
        "id": "eKqR_A2AKLdF",
        "outputId": "83eb8b4f-89c4-465c-c081-012cb4f0dd71"
      },
      "execution_count": null,
      "outputs": [
        {
          "output_type": "error",
          "ename": "ValueError",
          "evalue": "f(x_0) = 0.064842 and f(x_1) = 0.015174",
          "traceback": [
            "\u001b[0;31m---------------------------------------------------------------------------\u001b[0m",
            "\u001b[0;31mValueError\u001b[0m                                Traceback (most recent call last)",
            "\u001b[0;32m<ipython-input-32-f9c4e37583bc>\u001b[0m in \u001b[0;36m<cell line: 1>\u001b[0;34m()\u001b[0m\n\u001b[0;32m----> 1\u001b[0;31m \u001b[0mbisection\u001b[0m\u001b[0;34m(\u001b[0m\u001b[0;32mlambda\u001b[0m \u001b[0mx\u001b[0m\u001b[0;34m:\u001b[0m \u001b[0mnp\u001b[0m\u001b[0;34m.\u001b[0m\u001b[0mcos\u001b[0m\u001b[0;34m(\u001b[0m\u001b[0mx\u001b[0m\u001b[0;34m)\u001b[0m \u001b[0;34m-\u001b[0m \u001b[0mx\u001b[0m\u001b[0;34m,\u001b[0m \u001b[0;36m0.7\u001b[0m\u001b[0;34m,\u001b[0m \u001b[0;36m0.73\u001b[0m\u001b[0;34m,\u001b[0m \u001b[0;36m1e-5\u001b[0m\u001b[0;34m,\u001b[0m \u001b[0;36m20\u001b[0m\u001b[0;34m)\u001b[0m \u001b[0;31m#, 0.7390899658203125)\u001b[0m\u001b[0;34m\u001b[0m\u001b[0;34m\u001b[0m\u001b[0m\n\u001b[0m",
            "\u001b[0;32m<ipython-input-25-70a72e393e06>\u001b[0m in \u001b[0;36mbisection\u001b[0;34m(f, a, b, eps, max_its)\u001b[0m\n\u001b[1;32m     28\u001b[0m     \u001b[0;32mwhile\u001b[0m \u001b[0mabs\u001b[0m\u001b[0;34m(\u001b[0m\u001b[0mf\u001b[0m\u001b[0;34m(\u001b[0m\u001b[0mc\u001b[0m\u001b[0;34m)\u001b[0m\u001b[0;34m)\u001b[0m \u001b[0;34m>\u001b[0m \u001b[0meps\u001b[0m\u001b[0;34m:\u001b[0m\u001b[0;34m\u001b[0m\u001b[0;34m\u001b[0m\u001b[0m\n\u001b[1;32m     29\u001b[0m         \u001b[0;32mif\u001b[0m \u001b[0mf\u001b[0m\u001b[0;34m(\u001b[0m\u001b[0ma\u001b[0m\u001b[0;34m)\u001b[0m \u001b[0;34m*\u001b[0m \u001b[0mf\u001b[0m\u001b[0;34m(\u001b[0m\u001b[0mb\u001b[0m\u001b[0;34m)\u001b[0m \u001b[0;34m>=\u001b[0m \u001b[0;36m0\u001b[0m\u001b[0;34m:\u001b[0m\u001b[0;34m\u001b[0m\u001b[0;34m\u001b[0m\u001b[0m\n\u001b[0;32m---> 30\u001b[0;31m             \u001b[0;32mraise\u001b[0m \u001b[0mValueError\u001b[0m\u001b[0;34m(\u001b[0m\u001b[0;34mf'f(x_0) = {f(a):.5} and f(x_1) = {f(b):.5}'\u001b[0m\u001b[0;34m)\u001b[0m\u001b[0;34m\u001b[0m\u001b[0;34m\u001b[0m\u001b[0m\n\u001b[0m\u001b[1;32m     31\u001b[0m         \u001b[0mc\u001b[0m \u001b[0;34m=\u001b[0m \u001b[0;34m(\u001b[0m\u001b[0ma\u001b[0m \u001b[0;34m+\u001b[0m \u001b[0mb\u001b[0m\u001b[0;34m)\u001b[0m \u001b[0;34m/\u001b[0m \u001b[0;36m2\u001b[0m\u001b[0;34m\u001b[0m\u001b[0;34m\u001b[0m\u001b[0m\n\u001b[1;32m     32\u001b[0m         \u001b[0;32mif\u001b[0m \u001b[0mf\u001b[0m\u001b[0;34m(\u001b[0m\u001b[0mc\u001b[0m\u001b[0;34m)\u001b[0m \u001b[0;34m==\u001b[0m \u001b[0;36m0\u001b[0m\u001b[0;34m:\u001b[0m\u001b[0;34m\u001b[0m\u001b[0;34m\u001b[0m\u001b[0m\n",
            "\u001b[0;31mValueError\u001b[0m: f(x_0) = 0.064842 and f(x_1) = 0.015174"
          ]
        }
      ]
    },
    {
      "cell_type": "code",
      "source": [
        "bisection(lambda x: 4 * x**3 - 1, 1, 2, 1e-5, 20) #, 0.6299591064453125)"
      ],
      "metadata": {
        "colab": {
          "base_uri": "https://localhost:8080/",
          "height": 273
        },
        "id": "KX2hMQsYMJ1E",
        "outputId": "e8dc55cb-bbcb-4fce-c7c3-81be83735a46"
      },
      "execution_count": null,
      "outputs": [
        {
          "output_type": "error",
          "ename": "ValueError",
          "evalue": "f(x_0) and f(x_1) are not of the same sign",
          "traceback": [
            "\u001b[0;31m---------------------------------------------------------------------------\u001b[0m",
            "\u001b[0;31mValueError\u001b[0m                                Traceback (most recent call last)",
            "\u001b[0;32m<ipython-input-38-0db510ac8a39>\u001b[0m in \u001b[0;36m<cell line: 1>\u001b[0;34m()\u001b[0m\n\u001b[0;32m----> 1\u001b[0;31m \u001b[0mbisection\u001b[0m\u001b[0;34m(\u001b[0m\u001b[0;32mlambda\u001b[0m \u001b[0mx\u001b[0m\u001b[0;34m:\u001b[0m \u001b[0;36m4\u001b[0m \u001b[0;34m*\u001b[0m \u001b[0mx\u001b[0m\u001b[0;34m**\u001b[0m\u001b[0;36m3\u001b[0m \u001b[0;34m-\u001b[0m \u001b[0;36m1\u001b[0m\u001b[0;34m,\u001b[0m \u001b[0;36m1\u001b[0m\u001b[0;34m,\u001b[0m \u001b[0;36m2\u001b[0m\u001b[0;34m,\u001b[0m \u001b[0;36m1e-5\u001b[0m\u001b[0;34m,\u001b[0m \u001b[0;36m20\u001b[0m\u001b[0;34m)\u001b[0m \u001b[0;31m#, 0.6299591064453125)\u001b[0m\u001b[0;34m\u001b[0m\u001b[0;34m\u001b[0m\u001b[0m\n\u001b[0m",
            "\u001b[0;32m<ipython-input-37-6a1a900ee9ca>\u001b[0m in \u001b[0;36mbisection\u001b[0;34m(f, a, b, eps, max_its)\u001b[0m\n\u001b[1;32m     29\u001b[0m         \u001b[0;31m# ValueError checked during while loop\u001b[0m\u001b[0;34m\u001b[0m\u001b[0;34m\u001b[0m\u001b[0m\n\u001b[1;32m     30\u001b[0m         \u001b[0;32mif\u001b[0m \u001b[0mf\u001b[0m\u001b[0;34m(\u001b[0m\u001b[0ma\u001b[0m\u001b[0;34m)\u001b[0m \u001b[0;34m*\u001b[0m \u001b[0mf\u001b[0m\u001b[0;34m(\u001b[0m\u001b[0mb\u001b[0m\u001b[0;34m)\u001b[0m \u001b[0;34m>=\u001b[0m \u001b[0;36m0\u001b[0m\u001b[0;34m:\u001b[0m\u001b[0;34m\u001b[0m\u001b[0;34m\u001b[0m\u001b[0m\n\u001b[0;32m---> 31\u001b[0;31m             \u001b[0;32mraise\u001b[0m \u001b[0mValueError\u001b[0m\u001b[0;34m(\u001b[0m\u001b[0;34mf'f(x_0) and f(x_1) are not of the same sign'\u001b[0m\u001b[0;34m)\u001b[0m\u001b[0;34m\u001b[0m\u001b[0;34m\u001b[0m\u001b[0m\n\u001b[0m\u001b[1;32m     32\u001b[0m         \u001b[0mc\u001b[0m \u001b[0;34m=\u001b[0m \u001b[0;34m(\u001b[0m\u001b[0ma\u001b[0m \u001b[0;34m+\u001b[0m \u001b[0mb\u001b[0m\u001b[0;34m)\u001b[0m \u001b[0;34m/\u001b[0m \u001b[0;36m2\u001b[0m\u001b[0;34m\u001b[0m\u001b[0;34m\u001b[0m\u001b[0m\n\u001b[1;32m     33\u001b[0m         \u001b[0;32mif\u001b[0m \u001b[0mf\u001b[0m\u001b[0;34m(\u001b[0m\u001b[0mc\u001b[0m\u001b[0;34m)\u001b[0m \u001b[0;34m==\u001b[0m \u001b[0;36m0\u001b[0m\u001b[0;34m:\u001b[0m\u001b[0;34m\u001b[0m\u001b[0;34m\u001b[0m\u001b[0m\n",
            "\u001b[0;31mValueError\u001b[0m: f(x_0) and f(x_1) are not of the same sign"
          ]
        }
      ]
    },
    {
      "cell_type": "code",
      "source": [
        "bisection(lambda x: x**2 - 1, 1.825, 8.125, 1e-5, 25) #, 0.9999993324279786)"
      ],
      "metadata": {
        "colab": {
          "base_uri": "https://localhost:8080/",
          "height": 273
        },
        "id": "u0htDxIVMQt2",
        "outputId": "7d565298-a4bf-481e-9732-2c2ba9fecfec"
      },
      "execution_count": null,
      "outputs": [
        {
          "output_type": "error",
          "ename": "ValueError",
          "evalue": "f(x_0) = 2.3306 and f(x_1) = 65.016",
          "traceback": [
            "\u001b[0;31m---------------------------------------------------------------------------\u001b[0m",
            "\u001b[0;31mValueError\u001b[0m                                Traceback (most recent call last)",
            "\u001b[0;32m<ipython-input-34-cfda9189c22c>\u001b[0m in \u001b[0;36m<cell line: 1>\u001b[0;34m()\u001b[0m\n\u001b[0;32m----> 1\u001b[0;31m \u001b[0mbisection\u001b[0m\u001b[0;34m(\u001b[0m\u001b[0;32mlambda\u001b[0m \u001b[0mx\u001b[0m\u001b[0;34m:\u001b[0m \u001b[0mx\u001b[0m\u001b[0;34m**\u001b[0m\u001b[0;36m2\u001b[0m \u001b[0;34m-\u001b[0m \u001b[0;36m1\u001b[0m\u001b[0;34m,\u001b[0m \u001b[0;36m1.825\u001b[0m\u001b[0;34m,\u001b[0m \u001b[0;36m8.125\u001b[0m\u001b[0;34m,\u001b[0m \u001b[0;36m1e-5\u001b[0m\u001b[0;34m,\u001b[0m \u001b[0;36m25\u001b[0m\u001b[0;34m)\u001b[0m \u001b[0;31m#, 0.9999993324279786)\u001b[0m\u001b[0;34m\u001b[0m\u001b[0;34m\u001b[0m\u001b[0m\n\u001b[0m",
            "\u001b[0;32m<ipython-input-25-70a72e393e06>\u001b[0m in \u001b[0;36mbisection\u001b[0;34m(f, a, b, eps, max_its)\u001b[0m\n\u001b[1;32m     28\u001b[0m     \u001b[0;32mwhile\u001b[0m \u001b[0mabs\u001b[0m\u001b[0;34m(\u001b[0m\u001b[0mf\u001b[0m\u001b[0;34m(\u001b[0m\u001b[0mc\u001b[0m\u001b[0;34m)\u001b[0m\u001b[0;34m)\u001b[0m \u001b[0;34m>\u001b[0m \u001b[0meps\u001b[0m\u001b[0;34m:\u001b[0m\u001b[0;34m\u001b[0m\u001b[0;34m\u001b[0m\u001b[0m\n\u001b[1;32m     29\u001b[0m         \u001b[0;32mif\u001b[0m \u001b[0mf\u001b[0m\u001b[0;34m(\u001b[0m\u001b[0ma\u001b[0m\u001b[0;34m)\u001b[0m \u001b[0;34m*\u001b[0m \u001b[0mf\u001b[0m\u001b[0;34m(\u001b[0m\u001b[0mb\u001b[0m\u001b[0;34m)\u001b[0m \u001b[0;34m>=\u001b[0m \u001b[0;36m0\u001b[0m\u001b[0;34m:\u001b[0m\u001b[0;34m\u001b[0m\u001b[0;34m\u001b[0m\u001b[0m\n\u001b[0;32m---> 30\u001b[0;31m             \u001b[0;32mraise\u001b[0m \u001b[0mValueError\u001b[0m\u001b[0;34m(\u001b[0m\u001b[0;34mf'f(x_0) = {f(a):.5} and f(x_1) = {f(b):.5}'\u001b[0m\u001b[0;34m)\u001b[0m\u001b[0;34m\u001b[0m\u001b[0;34m\u001b[0m\u001b[0m\n\u001b[0m\u001b[1;32m     31\u001b[0m         \u001b[0mc\u001b[0m \u001b[0;34m=\u001b[0m \u001b[0;34m(\u001b[0m\u001b[0ma\u001b[0m \u001b[0;34m+\u001b[0m \u001b[0mb\u001b[0m\u001b[0;34m)\u001b[0m \u001b[0;34m/\u001b[0m \u001b[0;36m2\u001b[0m\u001b[0;34m\u001b[0m\u001b[0;34m\u001b[0m\u001b[0m\n\u001b[1;32m     32\u001b[0m         \u001b[0;32mif\u001b[0m \u001b[0mf\u001b[0m\u001b[0;34m(\u001b[0m\u001b[0mc\u001b[0m\u001b[0;34m)\u001b[0m \u001b[0;34m==\u001b[0m \u001b[0;36m0\u001b[0m\u001b[0;34m:\u001b[0m\u001b[0;34m\u001b[0m\u001b[0;34m\u001b[0m\u001b[0m\n",
            "\u001b[0;31mValueError\u001b[0m: f(x_0) = 2.3306 and f(x_1) = 65.016"
          ]
        }
      ]
    },
    {
      "cell_type": "markdown",
      "source": [
        "##Solve"
      ],
      "metadata": {
        "id": "Zo3YtsI9Zhkb"
      }
    },
    {
      "cell_type": "code",
      "source": [
        "def solve(f, df, x_0, x_1, eps=1.0e-5, max_its_n=20, max_its_b=20):\n",
        "    \"\"\"Solve a nonlinear equation.\n",
        "\n",
        "    solve f(x) == 0 using Newton-Raphson iteration, falling back to bisection\n",
        "    if the former fails.\n",
        "\n",
        "    Parameters\n",
        "    ----------\n",
        "    f : function(x: float) -> float\n",
        "        The function whose root is being found.\n",
        "    df : function(x: float) -> float\n",
        "        The derivative of f.\n",
        "    x_0 : float\n",
        "        The initial value of x in the Newton-Raphson iteration, and left end of\n",
        "        the initial bisection interval.\n",
        "    x_1 : float\n",
        "        The right end of the initial bisection interval.\n",
        "    eps : float\n",
        "        The solver tolerance. Convergence is achieved when abs(f(x)) < eps.\n",
        "    max_its_n : int\n",
        "        The maximum number of iterations to be taken before the newton-raphson\n",
        "        solver is taken to have failed.\n",
        "    max_its_b : int\n",
        "        The maximum number of iterations to be taken before the bisection\n",
        "        solver is taken to have failed.\n",
        "\n",
        "    Returns\n",
        "    -------\n",
        "    float\n",
        "        The approximate root.\n",
        "    \"\"\"\n",
        "    try:\n",
        "        root_n = newton_raphson(f, df, x_0, eps, max_its_n)\n",
        "    except ConvergenceError:\n",
        "        try:\n",
        "            root_b = bisection(f, x_0, x_1, eps, max_its_b)\n",
        "        except ValueError:\n",
        "            pass\n",
        "        else:\n",
        "            print('Bisection')\n",
        "            return root_b\n",
        "    else:\n",
        "        print(f'Newton')\n",
        "        return root_n"
      ],
      "metadata": {
        "id": "XR74rNrGZks2"
      },
      "execution_count": null,
      "outputs": []
    },
    {
      "cell_type": "markdown",
      "source": [
        "###Caught by Newton"
      ],
      "metadata": {
        "id": "M7GrpKPEgnmd"
      }
    },
    {
      "cell_type": "code",
      "source": [
        "solve(lambda x: np.cos(x) - x, lambda x: -np.sin(x) - 1, 0, 1, 1e-5, 15, 20) #, 0.7390899658203125)"
      ],
      "metadata": {
        "colab": {
          "base_uri": "https://localhost:8080/"
        },
        "id": "EcoNVAr3d4CZ",
        "outputId": "da5f8c20-0997-4ccf-a918-b8639be8e127"
      },
      "execution_count": null,
      "outputs": [
        {
          "output_type": "stream",
          "name": "stdout",
          "text": [
            "Newton\n"
          ]
        },
        {
          "output_type": "execute_result",
          "data": {
            "text/plain": [
              "0.7390851332151607"
            ]
          },
          "metadata": {},
          "execution_count": 64
        }
      ]
    },
    {
      "cell_type": "markdown",
      "source": [
        "###Caught by Bisection"
      ],
      "metadata": {
        "id": "YdM8GlHggr83"
      }
    },
    {
      "cell_type": "code",
      "source": [
        "solve(lambda x: np.cos(x) - x, lambda x: -np.sin(x) - 10, 0, 1, 1e-5, 15, 20) #, 0.7390899658203125)"
      ],
      "metadata": {
        "colab": {
          "base_uri": "https://localhost:8080/"
        },
        "outputId": "812d4dcc-fe30-45ec-f4c1-8ef18f91a495",
        "id": "NDEP9FjIgi0k"
      },
      "execution_count": null,
      "outputs": [
        {
          "output_type": "stream",
          "name": "stdout",
          "text": [
            "Bisection\n"
          ]
        },
        {
          "output_type": "execute_result",
          "data": {
            "text/plain": [
              "0.7390899658203125"
            ]
          },
          "metadata": {},
          "execution_count": 65
        }
      ]
    }
  ]
}